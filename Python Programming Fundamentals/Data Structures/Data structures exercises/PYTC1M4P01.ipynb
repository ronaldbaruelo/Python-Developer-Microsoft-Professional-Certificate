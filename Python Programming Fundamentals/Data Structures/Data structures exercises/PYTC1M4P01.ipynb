{
 "cells": [
  {
   "cell_type": "markdown",
   "id": "b4113905-db0f-4bd4-a5f2-130c159a8cde",
   "metadata": {},
   "source": [
    "## How to Interact with this Jupyter Notebook\n",
    "\n",
    "In this activity, you will use a Jupyter Notebook, which integrates both text and code. The gray boxes contain executable code, which you will run in order to view its output. The text in between the code provides instructions.\n"
   ]
  },
  {
   "cell_type": "markdown",
   "id": "9238e2e7-061a-4073-801c-7a6feecf5b6a",
   "metadata": {},
   "source": [
    "## Scenario: The Furry Foodie\n",
    "\n",
    "Welcome to The Furry Foodie, where tails wag and purrs rumble! \n",
    "\n",
    "You're the new data analyst on the block, and it's your job to ensure our inventory management system runs smoothly. You'll be working with various data structures to track product IDs, monitor stock levels, analyze sales trends, and organize our wide selection of pet products. \n",
    "\n",
    "### Project Summary:\n",
    "\n",
    "* **Lists - Inventory Management:** Efficiently manage and update our inventory list using Python lists. We'll practice adding new items, removing out-of-stock products, and ensuring our inventory is always up-to-date.\n",
    "\n",
    "* **Tuples - Immutable Data:** Explore the concept of immutability with tuples and understand their suitability for storing fixed data, such as product IDs.\n",
    "\n",
    "* **Dictionaries - Inventory Lookup:** Utilize dictionaries to create a dynamic inventory database. We'll learn how to load inventory data from a CSV file, access and update stock levels, and handle item additions and removals.\n",
    "\n",
    "* **Iterating over a Dictionary:** Generate clear and informative inventory reports by iterating through the dictionary and extracting key-value pairs.\n"
   ]
  },
  {
   "cell_type": "markdown",
   "id": "25396705-ee68-4b57-9985-7cc339699b58",
   "metadata": {},
   "source": [
    "For this activity, you will have access to a CSV file named `inventory.csv` that has already been created for you and contains some initial items. However, it has not yet been loaded into the jupyter notebook.\n",
    "\n",
    "In the cell below, add `inventory.csv` within pd.read_csv() to load the inventory data from the CSV file. Then, run the cell, which will:\n",
    "* Extract the product names from the DataFrame and store them in a list named `inventory`.\n",
    "* Print the inventory list to view the data."
   ]
  },
  {
   "cell_type": "code",
   "id": "af33d8dc-8e96-4bcd-9a0c-23751e4831f4",
   "metadata": {
    "ExecuteTime": {
     "end_time": "2025-08-07T09:05:46.438990Z",
     "start_time": "2025-08-07T09:05:46.420659Z"
    }
   },
   "source": [
    "# Import a powerful tool called \"pandas\" that you'll use to work with and organize data easily\n",
    "import pandas as pd\n",
    "\n",
    "# Load the inventory from the CSV file\n",
    "inventory_df = pd.read_csv('inventory.csv')\n",
    "\n",
    "# Extract the product names from the DataFrame and store them in a list\n",
    "inventory = inventory_df['product_name'].tolist()\n",
    "\n",
    "# Print the inventory list and inspect the output\n",
    "print(inventory) "
   ],
   "outputs": [
    {
     "name": "stdout",
     "output_type": "stream",
     "text": [
      "['Salmon Snacks', 'Cheesy Chompers', 'Peanut Butter Biscuits', 'Feathery Fun Sticks', 'Squeaky Sausages', 'Tuna Tidbits', 'Crunchy Carrots', 'Beef Jerky', 'Chicken Chunks', 'Duck Delights', 'Lamb Lovin', 'Turkey Tidbits', 'Fish Fingers', 'Dental Chews', 'Hip & Joint Treats', 'Skin & Coat Formula', 'Calming Chews', 'Training Treats', 'Catnip Mice', 'Feather Wand', 'Laser Pointer', 'Scratching Post', 'Cat Tree', 'Litter Box', 'Litter Scoop', 'Cat Food (dry)', 'Cat Food (wet)', 'Dog Food (dry)', 'Dog Food (wet)', 'Dog Leash', 'Dog Collar', 'Dog Harness', 'Dog Bed', 'Dog Toys', 'Cat Toys', 'Pet Shampoo', 'Pet Conditioner', 'Pet Toothbrush', 'Pet Toothpaste', 'Pet Nail Clippers', 'Pet Carrier', 'Pet Bowls', 'Pet Water Fountain', 'Pet First Aid Kit', 'Pet Grooming Brush', 'Pet Waste Bags', 'Pet Training Clicker', 'Pet Travel Bowl', 'Pet Cooling Mat', 'Pet Heating Pad']\n"
     ]
    }
   ],
   "execution_count": 4
  },
  {
   "cell_type": "markdown",
   "id": "64b5aa26-79e4-4bd8-9054-f4a2318451ca",
   "metadata": {},
   "source": [
    "Notice that the output above is a list of inventory items at the Furry Foodie. \n",
    "\n",
    "It turns out that \"Cheesy Chompers\" is no longer a popular choice at The Furry Foodie and you've decided to discontinue them. You need to update the inventory list to reflect this change.\n",
    "\n",
    "The `remove()` method searches for the specified item in the list and removes its first occurrence. If the item is not found, it raises a ValueError.\n",
    "\n",
    "In the cell below:\n",
    "\n",
    "* Use the `remove()` method to remove the first occurrence of \"Cheesy Chompers\" from the `inventory` list.\n",
    "\n",
    "Then, run the cell to print the updated inventory and see the changes.\n"
   ]
  },
  {
   "cell_type": "code",
   "id": "c1fd036f-dda7-46b4-92fa-95f97896ac31",
   "metadata": {
    "ExecuteTime": {
     "end_time": "2025-08-07T09:06:52.895358Z",
     "start_time": "2025-08-07T09:06:52.889330Z"
    }
   },
   "source": [
    "# Remove the \"Cheesy Chompers\"\n",
    "inventory.remove(\"Cheesy Chompers\")\n",
    "\n",
    "print(\"\\nUpdated inventory:\")\n",
    "print(inventory)"
   ],
   "outputs": [
    {
     "name": "stdout",
     "output_type": "stream",
     "text": [
      "\n",
      "Updated inventory:\n",
      "['Salmon Snacks', 'Peanut Butter Biscuits', 'Feathery Fun Sticks', 'Squeaky Sausages', 'Tuna Tidbits', 'Crunchy Carrots', 'Beef Jerky', 'Chicken Chunks', 'Duck Delights', 'Lamb Lovin', 'Turkey Tidbits', 'Fish Fingers', 'Dental Chews', 'Hip & Joint Treats', 'Skin & Coat Formula', 'Calming Chews', 'Training Treats', 'Catnip Mice', 'Feather Wand', 'Laser Pointer', 'Scratching Post', 'Cat Tree', 'Litter Box', 'Litter Scoop', 'Cat Food (dry)', 'Cat Food (wet)', 'Dog Food (dry)', 'Dog Food (wet)', 'Dog Leash', 'Dog Collar', 'Dog Harness', 'Dog Bed', 'Dog Toys', 'Cat Toys', 'Pet Shampoo', 'Pet Conditioner', 'Pet Toothbrush', 'Pet Toothpaste', 'Pet Nail Clippers', 'Pet Carrier', 'Pet Bowls', 'Pet Water Fountain', 'Pet First Aid Kit', 'Pet Grooming Brush', 'Pet Waste Bags', 'Pet Training Clicker', 'Pet Travel Bowl', 'Pet Cooling Mat', 'Pet Heating Pad']\n"
     ]
    }
   ],
   "execution_count": 5
  },
  {
   "cell_type": "markdown",
   "id": "85825a95-2891-4ccc-85c2-4fbd5965e112",
   "metadata": {},
   "source": [
    "Great work! The updated inventory list no longer shows \"Cheesy Chompers\", which has been succesfully removed.\n",
    "\n",
    "However, a new shipment of delicious pet treats has just arrived. \n",
    "\n",
    "The `new_items_str` variable in the cell below contains a comma-separated string representing these new items. The provided code converts the `new_items_str` into a list of individual items using the `split()` method. \n",
    "\n",
    "The `split()` method breaks a string into a list of substrings based on a specified delimiter (in this case, a comma followed by a space).\n",
    "\n",
    "In the cell below: \n",
    "* Use the `extend()` method to add all the new items from the `new_items` list to the end of the existing inventory list by adding `new_items` to the `extend()` method. \n",
    "\n",
    "Lastly, run the cell to print the updated inventory and see your newly added items. "
   ]
  },
  {
   "cell_type": "code",
   "id": "db7b9565-bc7d-4ba9-bf3f-35d5b494e4ca",
   "metadata": {
    "ExecuteTime": {
     "end_time": "2025-08-07T09:10:05.042909Z",
     "start_time": "2025-08-07T09:10:04.960850Z"
    }
   },
   "source": [
    "print(\"A new shipment of gourmet goodies has arrived!\")\n",
    "\n",
    "# New shipment of goodies! (provided as a string)\n",
    "new_items_str = \"Squeaky Sausages, Tuna Tidbits, Crunchy Carrots\"\n",
    "\n",
    "# Convert the string to a list and stores them in the variable new_items\n",
    "new_items = new_items_str.split(\", \") \n",
    "\n",
    "# Update the inventory list by adding \"new_items\" to the extend() method\n",
    "inventory.extend(new_items)\n",
    "\n",
    "print(\"\\nUpdated inventory:\")\n",
    "print(inventory) "
   ],
   "outputs": [
    {
     "name": "stdout",
     "output_type": "stream",
     "text": [
      "A new shipment of gourmet goodies has arrived!\n",
      "\n",
      "Updated inventory:\n",
      "['Salmon Snacks', 'Peanut Butter Biscuits', 'Feathery Fun Sticks', 'Squeaky Sausages', 'Tuna Tidbits', 'Crunchy Carrots', 'Beef Jerky', 'Chicken Chunks', 'Duck Delights', 'Lamb Lovin', 'Turkey Tidbits', 'Fish Fingers', 'Dental Chews', 'Hip & Joint Treats', 'Skin & Coat Formula', 'Calming Chews', 'Training Treats', 'Catnip Mice', 'Feather Wand', 'Laser Pointer', 'Scratching Post', 'Cat Tree', 'Litter Box', 'Litter Scoop', 'Cat Food (dry)', 'Cat Food (wet)', 'Dog Food (dry)', 'Dog Food (wet)', 'Dog Leash', 'Dog Collar', 'Dog Harness', 'Dog Bed', 'Dog Toys', 'Cat Toys', 'Pet Shampoo', 'Pet Conditioner', 'Pet Toothbrush', 'Pet Toothpaste', 'Pet Nail Clippers', 'Pet Carrier', 'Pet Bowls', 'Pet Water Fountain', 'Pet First Aid Kit', 'Pet Grooming Brush', 'Pet Waste Bags', 'Pet Training Clicker', 'Pet Travel Bowl', 'Pet Cooling Mat', 'Pet Heating Pad', 'Squeaky Sausages', 'Tuna Tidbits', 'Crunchy Carrots']\n"
     ]
    }
   ],
   "execution_count": 7
  },
  {
   "cell_type": "markdown",
   "id": "1760b572-0f15-4bcc-81e8-792d96dc55c4",
   "metadata": {},
   "source": [
    "Great job adding those new items!\n",
    "\n",
    "As the Furry Foodie grows, you're starting to see a lot of products with similar names. It's getting tricky to keep them organized, especially when processing orders or tracking sales. You need a way to assign unique identifiers to each product, something that won't accidentally get changed or mixed up.\n",
    "\n",
    "You will use tuples to represent unique product IDs. Tuples are ordered, immutable collections of items.  Immutability means that once a tuple is created, its elements cannot be changed. This makes tuples ideal for storing data that shouldn't be modified.\n",
    "\n",
    "Please note that you will run the cell below twice. \n",
    "\n",
    "First, run the cell now, which has a few simple product IDs using tuples that has already been created for you. When you run the cell, you will print the product IDs. Observe the output.\n",
    "\n",
    "Then, remove the `#` in front of the last line of code to uncomment it. This last line of code attempts to modify a tuple. \n",
    "\n",
    "Run the cell a second time and observe the `TypeError` that demonstrates the immutability of tuples."
   ]
  },
  {
   "cell_type": "code",
   "id": "63d7b221-829b-4256-92ec-16fc508c93d7",
   "metadata": {
    "ExecuteTime": {
     "end_time": "2025-08-07T09:11:47.652522Z",
     "start_time": "2025-08-07T09:11:47.627341Z"
    }
   },
   "source": [
    "# Create some product IDs as tuples\n",
    "product_id1 = (\"Salmon Snacks\", \"Small\")\n",
    "product_id2 = (\"Cheesy Chompers\", \"Medium\")\n",
    "product_id3 = (\"Peanut Butter Biscuits\", \"Large\")\n",
    "\n",
    "# Print the product IDs\n",
    "print(\"Product IDs:\")\n",
    "print(product_id1)\n",
    "print(product_id2)\n",
    "print(product_id3)\n",
    "\n",
    "# Try to modify a tuple by removing the \"#\" in front of the line below (this will cause an error)\n",
    "# product_id1[0] = \"Tuna Treats\"  # Uncomment this line to see the TypeError"
   ],
   "outputs": [
    {
     "name": "stdout",
     "output_type": "stream",
     "text": [
      "Product IDs:\n",
      "('Salmon Snacks', 'Small')\n",
      "('Cheesy Chompers', 'Medium')\n",
      "('Peanut Butter Biscuits', 'Large')\n"
     ]
    }
   ],
   "execution_count": 8
  },
  {
   "cell_type": "markdown",
   "id": "ee711337-4937-4fe2-8c27-3cf5d386126e",
   "metadata": {},
   "source": [
    "The previous sections focused on using lists and tuples for inventory management. While these data structures are useful, they have limitations when it comes to efficiently accessing and updating specific product information. \n",
    "\n",
    "Dictionaries offer a more organized and flexible approach, allowing you to store product names as keys and their corresponding stock levels as values. This key-value structure enables quick lookups and modifications, making dictionaries ideal for managing inventory data.\n",
    "\n",
    "Run the cell below, which uses the pandas library to load data from the CSV file and coverts it into a dictionary. Notice pandas' versatility here in handling different data structures."
   ]
  },
  {
   "cell_type": "code",
   "id": "06a5a2b0-a69e-4bac-b39f-d5987460ef85",
   "metadata": {
    "ExecuteTime": {
     "end_time": "2025-08-07T09:12:54.049378Z",
     "start_time": "2025-08-07T09:12:53.934229Z"
    }
   },
   "source": [
    "import pandas as pd\n",
    "\n",
    "# Load inventory data from CSV\n",
    "inventory_df = pd.read_csv('inventory.csv')\n",
    "\n",
    "# Set the 'product_name' column as the index\n",
    "inventory_df.set_index('product_name', inplace=True)\n",
    "\n",
    "# Convert the DataFrame directly to a dictionary, selecting only the 'stock_level' column\n",
    "inventory_dict = inventory_df['stock_level'].to_dict()\n",
    "\n",
    "# Print the inventory\n",
    "print(\"Initial Inventory:\")\n",
    "print(inventory_dict)\n"
   ],
   "outputs": [
    {
     "name": "stdout",
     "output_type": "stream",
     "text": [
      "Initial Inventory:\n",
      "{'Salmon Snacks': 25, 'Cheesy Chompers': 15, 'Peanut Butter Biscuits': 30, 'Feathery Fun Sticks': 34, 'Squeaky Sausages': 16, 'Tuna Tidbits': 13, 'Crunchy Carrots': 17, 'Beef Jerky': 16, 'Chicken Chunks': 46, 'Duck Delights': 23, 'Lamb Lovin': 22, 'Turkey Tidbits': 25, 'Fish Fingers': 13, 'Dental Chews': 45, 'Hip & Joint Treats': 33, 'Skin & Coat Formula': 33, 'Calming Chews': 48, 'Training Treats': 11, 'Catnip Mice': 23, 'Feather Wand': 40, 'Laser Pointer': 21, 'Scratching Post': 14, 'Cat Tree': 45, 'Litter Box': 48, 'Litter Scoop': 18, 'Cat Food (dry)': 15, 'Cat Food (wet)': 24, 'Dog Food (dry)': 28, 'Dog Food (wet)': 15, 'Dog Leash': 23, 'Dog Collar': 23, 'Dog Harness': 40, 'Dog Bed': 30, 'Dog Toys': 41, 'Cat Toys': 40, 'Pet Shampoo': 35, 'Pet Conditioner': 27, 'Pet Toothbrush': 38, 'Pet Toothpaste': 24, 'Pet Nail Clippers': 30, 'Pet Carrier': 30, 'Pet Bowls': 27, 'Pet Water Fountain': 12, 'Pet First Aid Kit': 40, 'Pet Grooming Brush': 48, 'Pet Waste Bags': 45, 'Pet Training Clicker': 47, 'Pet Travel Bowl': 17, 'Pet Cooling Mat': 34, 'Pet Heating Pad': 11}\n"
     ]
    }
   ],
   "execution_count": 9
  },
  {
   "cell_type": "markdown",
   "id": "7ff0bb1b-a7e8-4f1b-99b3-ba288922923e",
   "metadata": {},
   "source": [
    "Notice that the output above is now a dictionary where the product names are the keys, and the stock levels are the corresponding values. \n",
    "\n",
    "For example, \"Salmon Snacks\" is the key and \"25\" is the value. \n",
    "\n",
    "This structure allows for efficient lookup and management of inventory information. \n",
    "\n",
    "Imagine that a new shipment of exciting pet products has arrived at The Furry Foodie and you need to update your `inventory_dict` dictionary to reflect these changes.\n",
    "\n",
    "In the cell below: \n",
    "\n",
    "* Add a new item, \"Puppy Snacks\", to the `inventory_dict` with a stock level of 40.\n",
    "* We also received additional stock of \"Cheesy Chompers\". Update the stock level of \"Cheesy Chompers\" in the `inventory_dict` to 20.\n",
    "\n",
    "Then, run the cell to print the updated `inventory_dict` and see the changes."
   ]
  },
  {
   "cell_type": "code",
   "id": "47ab8b0a-c732-4c2b-b9d9-d20828165491",
   "metadata": {
    "ExecuteTime": {
     "end_time": "2025-08-07T09:17:22.029286Z",
     "start_time": "2025-08-07T09:17:22.011638Z"
    }
   },
   "source": [
    "# Add \"Puppy Snacks\" to the inventory\n",
    "inventory_dict[\"Puppy Snacks\"] = 40\n",
    "\n",
    "# Update \"Cheesy Chompers\" in the inventory and assign it the value of 20\n",
    "inventory_dict[\"Chessy Chompers\"] = 20\n",
    "\n",
    "print(\"\\nUpdated Inventory:\")\n",
    "print(inventory_dict)"
   ],
   "outputs": [
    {
     "name": "stdout",
     "output_type": "stream",
     "text": [
      "\n",
      "Updated Inventory:\n",
      "{'Salmon Snacks': 25, 'Cheesy Chompers': 15, 'Peanut Butter Biscuits': 30, 'Feathery Fun Sticks': 34, 'Squeaky Sausages': 16, 'Tuna Tidbits': 13, 'Crunchy Carrots': 17, 'Beef Jerky': 16, 'Chicken Chunks': 46, 'Duck Delights': 23, 'Lamb Lovin': 22, 'Turkey Tidbits': 25, 'Fish Fingers': 13, 'Dental Chews': 45, 'Hip & Joint Treats': 33, 'Skin & Coat Formula': 33, 'Calming Chews': 48, 'Training Treats': 11, 'Catnip Mice': 23, 'Feather Wand': 40, 'Laser Pointer': 21, 'Scratching Post': 14, 'Cat Tree': 45, 'Litter Box': 48, 'Litter Scoop': 18, 'Cat Food (dry)': 15, 'Cat Food (wet)': 24, 'Dog Food (dry)': 28, 'Dog Food (wet)': 15, 'Dog Leash': 23, 'Dog Collar': 23, 'Dog Harness': 40, 'Dog Bed': 30, 'Dog Toys': 41, 'Cat Toys': 40, 'Pet Shampoo': 35, 'Pet Conditioner': 27, 'Pet Toothbrush': 38, 'Pet Toothpaste': 24, 'Pet Nail Clippers': 30, 'Pet Carrier': 30, 'Pet Bowls': 27, 'Pet Water Fountain': 12, 'Pet First Aid Kit': 40, 'Pet Grooming Brush': 48, 'Pet Waste Bags': 45, 'Pet Training Clicker': 47, 'Pet Travel Bowl': 17, 'Pet Cooling Mat': 34, 'Pet Heating Pad': 11, 'Puppy Snacks': 40, 'Chessy Chompers': 20}\n"
     ]
    }
   ],
   "execution_count": 10
  },
  {
   "cell_type": "markdown",
   "id": "50e66730-d4c7-404f-9f95-98ad506d155f",
   "metadata": {},
   "source": [
    "Notice the output above. Puppy Snacks with a stock level of 40 has been added to your dictionary! The stock level value of Cheesy Chompers has also been updated to 20! Great work.\n",
    "\n",
    "Unfortunately, you hear that \"Peanut Butter Biscuits\" has been discontinued at The Furry Foodie.\n",
    "\n",
    "You need to remove this item from your `inventory_dict` dictionary to keep the records up-to-date.\n",
    "\n",
    "In the cell below: \n",
    "\n",
    "* Use the `del` keyword to remove the \"Peanut Butter Biscuits\" entry from the `inventory_dict` dictionary. Add `del` to the front of the `inventory_dict` variable and fill in \"Peanut Butter Biscuits\".\n",
    "\n",
    "Then, run the cell to print the updated `inventory_dict` and see the changes."
   ]
  },
  {
   "cell_type": "code",
   "id": "c09545d6-7740-43b1-b5ef-daaf60787233",
   "metadata": {
    "ExecuteTime": {
     "end_time": "2025-08-07T09:19:31.233018Z",
     "start_time": "2025-08-07T09:19:31.218005Z"
    }
   },
   "source": [
    "# We've discontinued \"Peanut Butter Biscuits\". Remove it from the inventory\n",
    "\n",
    "# Remove item \n",
    "del inventory_dict[\"Peanut Butter Biscuits\"]\n",
    "\n",
    "print(\"\\nUpdated Inventory after Discontinuation:\")\n",
    "print(inventory_dict)\n"
   ],
   "outputs": [
    {
     "name": "stdout",
     "output_type": "stream",
     "text": [
      "\n",
      "Updated Inventory after Discontinuation:\n",
      "{'Salmon Snacks': 25, 'Cheesy Chompers': 15, 'Feathery Fun Sticks': 34, 'Squeaky Sausages': 16, 'Tuna Tidbits': 13, 'Crunchy Carrots': 17, 'Beef Jerky': 16, 'Chicken Chunks': 46, 'Duck Delights': 23, 'Lamb Lovin': 22, 'Turkey Tidbits': 25, 'Fish Fingers': 13, 'Dental Chews': 45, 'Hip & Joint Treats': 33, 'Skin & Coat Formula': 33, 'Calming Chews': 48, 'Training Treats': 11, 'Catnip Mice': 23, 'Feather Wand': 40, 'Laser Pointer': 21, 'Scratching Post': 14, 'Cat Tree': 45, 'Litter Box': 48, 'Litter Scoop': 18, 'Cat Food (dry)': 15, 'Cat Food (wet)': 24, 'Dog Food (dry)': 28, 'Dog Food (wet)': 15, 'Dog Leash': 23, 'Dog Collar': 23, 'Dog Harness': 40, 'Dog Bed': 30, 'Dog Toys': 41, 'Cat Toys': 40, 'Pet Shampoo': 35, 'Pet Conditioner': 27, 'Pet Toothbrush': 38, 'Pet Toothpaste': 24, 'Pet Nail Clippers': 30, 'Pet Carrier': 30, 'Pet Bowls': 27, 'Pet Water Fountain': 12, 'Pet First Aid Kit': 40, 'Pet Grooming Brush': 48, 'Pet Waste Bags': 45, 'Pet Training Clicker': 47, 'Pet Travel Bowl': 17, 'Pet Cooling Mat': 34, 'Pet Heating Pad': 11, 'Puppy Snacks': 40, 'Chessy Chompers': 20}\n"
     ]
    }
   ],
   "execution_count": 11
  },
  {
   "cell_type": "markdown",
   "id": "b46fa76a-c5d7-4461-89da-0ed2c30f833b",
   "metadata": {},
   "source": [
    "Great work! Now, run the cell below, which will generate a nicely formatted inventory report.\n",
    "\n",
    "Here's a breakdown of the final cell:\n",
    "\n",
    "* Print a header: It will start by printing a clear header \"Inventory Report:\" to visually separate the report from other output.\n",
    "\n",
    "* Iterate through the inventory: It uses a `for` loop to go through each item in the `inventory_dict` dictionary.  \n",
    "\n",
    "* Extract product and stock information: For each iteration of the loop, the `items()` method of the dictionary is used to get both the `product` (key) and its corresponding `stock` level (value).\n",
    "\n",
    "* Print formatted output: Using an f-string, it creates a nicely formatted line of text for each product, displaying its name and current stock level. This creates a clear and organized inventory report.\n",
    "\n",
    "Run the code and see the report!\n"
   ]
  },
  {
   "cell_type": "code",
   "id": "2f6bc74f-4ddd-4ed3-b1b9-ca172a92b398",
   "metadata": {
    "ExecuteTime": {
     "end_time": "2025-08-07T09:19:44.028071Z",
     "start_time": "2025-08-07T09:19:44.011177Z"
    }
   },
   "source": [
    "# It's time to generate a nicely formatted inventory report!\n",
    "\n",
    "print(\"\\nInventory Report:\")\n",
    "for product, stock in inventory_dict.items(): \n",
    "    print(f\"Product: {product}, Stock: {stock}\") \n"
   ],
   "outputs": [
    {
     "name": "stdout",
     "output_type": "stream",
     "text": [
      "\n",
      "Inventory Report:\n",
      "Product: Salmon Snacks, Stock: 25\n",
      "Product: Cheesy Chompers, Stock: 15\n",
      "Product: Feathery Fun Sticks, Stock: 34\n",
      "Product: Squeaky Sausages, Stock: 16\n",
      "Product: Tuna Tidbits, Stock: 13\n",
      "Product: Crunchy Carrots, Stock: 17\n",
      "Product: Beef Jerky, Stock: 16\n",
      "Product: Chicken Chunks, Stock: 46\n",
      "Product: Duck Delights, Stock: 23\n",
      "Product: Lamb Lovin, Stock: 22\n",
      "Product: Turkey Tidbits, Stock: 25\n",
      "Product: Fish Fingers, Stock: 13\n",
      "Product: Dental Chews, Stock: 45\n",
      "Product: Hip & Joint Treats, Stock: 33\n",
      "Product: Skin & Coat Formula, Stock: 33\n",
      "Product: Calming Chews, Stock: 48\n",
      "Product: Training Treats, Stock: 11\n",
      "Product: Catnip Mice, Stock: 23\n",
      "Product: Feather Wand, Stock: 40\n",
      "Product: Laser Pointer, Stock: 21\n",
      "Product: Scratching Post, Stock: 14\n",
      "Product: Cat Tree, Stock: 45\n",
      "Product: Litter Box, Stock: 48\n",
      "Product: Litter Scoop, Stock: 18\n",
      "Product: Cat Food (dry), Stock: 15\n",
      "Product: Cat Food (wet), Stock: 24\n",
      "Product: Dog Food (dry), Stock: 28\n",
      "Product: Dog Food (wet), Stock: 15\n",
      "Product: Dog Leash, Stock: 23\n",
      "Product: Dog Collar, Stock: 23\n",
      "Product: Dog Harness, Stock: 40\n",
      "Product: Dog Bed, Stock: 30\n",
      "Product: Dog Toys, Stock: 41\n",
      "Product: Cat Toys, Stock: 40\n",
      "Product: Pet Shampoo, Stock: 35\n",
      "Product: Pet Conditioner, Stock: 27\n",
      "Product: Pet Toothbrush, Stock: 38\n",
      "Product: Pet Toothpaste, Stock: 24\n",
      "Product: Pet Nail Clippers, Stock: 30\n",
      "Product: Pet Carrier, Stock: 30\n",
      "Product: Pet Bowls, Stock: 27\n",
      "Product: Pet Water Fountain, Stock: 12\n",
      "Product: Pet First Aid Kit, Stock: 40\n",
      "Product: Pet Grooming Brush, Stock: 48\n",
      "Product: Pet Waste Bags, Stock: 45\n",
      "Product: Pet Training Clicker, Stock: 47\n",
      "Product: Pet Travel Bowl, Stock: 17\n",
      "Product: Pet Cooling Mat, Stock: 34\n",
      "Product: Pet Heating Pad, Stock: 11\n",
      "Product: Puppy Snacks, Stock: 40\n",
      "Product: Chessy Chompers, Stock: 20\n"
     ]
    }
   ],
   "execution_count": 12
  },
  {
   "cell_type": "markdown",
   "id": "9edf79f2-4efb-455b-8282-5474f0656e1a",
   "metadata": {},
   "source": [
    "## Project Recap: Managing Inventory at The Furry Foodie with Python\n",
    "\n",
    "Congratulations on completing the Furry Foodie inventory management project! You've successfully applied your Python skills to keep our shelves stocked and our furry customers happy. Let's recap what you've learned:\n",
    "\n",
    "* **Lists:** You've mastered how to use lists to represent and manage inventory. You've added new items, removed out-of-stock products, and kept everything organized, ensuring we never run out of the treats our pets love.\n",
    "\n",
    "* **Tuples:** You've learned how to leverage the immutability of tuples to store crucial product identifiers, guaranteeing data integrity and preventing accidental modifications.\n",
    "\n",
    "* **Dictionaries:** You've harnessed the power of dictionaries to create a flexible and efficient inventory database. You've added new products, updated stock levels, checked for item availability, and even removed discontinued items from the inventory.\n",
    "\n",
    "* **Iterating over Dictionaries:** You've used loops to traverse dictionaries, extracting key-value pairs to generate clear and informative inventory reports, keeping both management and customers well-informed.\n",
    "\n",
    "* **Working with External Data:** You've learned how to load and process data from a CSV file using the pandas library, enabling you to interact with real-world datasets.\n"
   ]
  }
 ],
 "metadata": {
  "kernelspec": {
   "display_name": "Python 3",
   "language": "python",
   "name": "python3"
  },
  "language_info": {
   "codemirror_mode": {
    "name": "ipython",
    "version": 3
   },
   "file_extension": ".py",
   "mimetype": "text/x-python",
   "name": "python",
   "nbconvert_exporter": "python",
   "pygments_lexer": "ipython3",
   "version": "3.8.8"
  }
 },
 "nbformat": 4,
 "nbformat_minor": 5
}
