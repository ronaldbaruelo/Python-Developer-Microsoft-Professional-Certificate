{
 "cells": [
  {
   "cell_type": "code",
   "id": "initial_id",
   "metadata": {
    "collapsed": true,
    "ExecuteTime": {
     "end_time": "2025-08-02T03:54:14.032060Z",
     "start_time": "2025-08-02T03:54:14.005109Z"
    }
   },
   "source": [
    "class TemperatureData:\n",
    "    # Constructor to create object\n",
    "    def __init__(self, name, readings):\n",
    "        self.name = name\n",
    "        self.readings = readings\n",
    "\n",
    "    # Calculate average temperatures\n",
    "    def calculate_average_temp(self):\n",
    "        return sum(self.readings) / len(self.readings)\n",
    "\n",
    "    # Find highest temperature\n",
    "    def find_high_temp(self):\n",
    "        return max(self.readings)\n",
    "\n",
    "    # Find lowest temperature\n",
    "    def find_low_temp(self):\n",
    "        return min(self.readings)"
   ],
   "outputs": [],
   "execution_count": 3
  },
  {
   "metadata": {
    "ExecuteTime": {
     "end_time": "2025-08-02T04:04:54.612887Z",
     "start_time": "2025-08-02T04:04:54.576454Z"
    }
   },
   "cell_type": "code",
   "source": [
    "def calc_range(first, second):\n",
    "    if (first > second):\n",
    "        return first - second\n",
    "    else:\n",
    "        return second - first\n",
    "\n",
    "# Example Usage\n",
    "# Create a name for a sensor\n",
    "sensor_name = \"East Forest Road Sensor\"\n",
    "\n",
    "sensor = TemperatureData(sensor_name, [75, 71, 68, 64, 88])\n",
    "\n",
    "average_temp = sensor.calculate_average_temp()\n",
    "print(f\"Average temperature for sensor {sensor_name}: {average_temp} degrees Fahrenheit\")\n",
    "\n",
    "highest = sensor.find_high_temp()\n",
    "lowest = sensor.find_low_temp()\n",
    "print(f\"Temperature extremes for sensor {sensor_name}: Highest {highest}, Lowest {lowest}\")\n",
    "\n",
    "range = calc_range(lowest, highest)\n",
    "print(f\"Temperature range for sensor {sensor_name}: {range} degrees Fahrenheit\")"
   ],
   "id": "173903193acce68e",
   "outputs": [
    {
     "name": "stdout",
     "output_type": "stream",
     "text": [
      "Average temperature for sensor East Forest Road Sensor: 73.2 degrees Fahrenheit\n",
      "Temperature extremes for sensor East Forest Road Sensor: Highest 88, Lowest 64\n",
      "Temperature range for sensor East Forest Road Sensor: 24 degrees Fahrenheit\n"
     ]
    }
   ],
   "execution_count": 6
  },
  {
   "metadata": {
    "ExecuteTime": {
     "end_time": "2025-08-02T03:54:15.318271Z",
     "start_time": "2025-08-02T03:54:15.309494Z"
    }
   },
   "cell_type": "code",
   "source": [
    "class TemperatureData:\n",
    "    # Constructor to create object\n",
    "    def __init__(self, name, readings):\n",
    "        self.name = name\n",
    "        self.readings = readings\n",
    "\n",
    "    # Calculate average temperatures\n",
    "    def calculate_average_temp(self):\n",
    "        return sum(self.readings) / len(self.readings)\n",
    "\n",
    "    # Find highest temperature\n",
    "    def find_high_temp(self):\n",
    "        return max(self.readings)\n",
    "\n",
    "    # Find lowest temperature\n",
    "    def find_low_temp(self):\n",
    "        return min(self.readings)\n",
    "\n",
    "    # Find temperature range (max-min)\n",
    "    def calc_range(self):\n",
    "        return max(self.readings) - min(self.readings)"
   ],
   "id": "2484d67a2a96970a",
   "outputs": [],
   "execution_count": null
  },
  {
   "metadata": {
    "ExecuteTime": {
     "end_time": "2025-08-02T03:58:38.045596Z",
     "start_time": "2025-08-02T03:58:37.533260Z"
    }
   },
   "cell_type": "code",
   "source": [
    "# Create a name for a sensor\n",
    "sensor_name = \"East Forest Road Sensor\"\n",
    "\n",
    "sensor = TemperatureData(sensor_name, [75, 71, 68, 64, 88])\n",
    "\n",
    "average_temp = sensor.calculate_average_temp()\n",
    "print(f\"Average temperature for sensor {sensor_name}: {average_temp} degrees Fahrenheit\")\n",
    "\n",
    "highest = sensor.find_high_temp()\n",
    "lowest = sensor.find_low_temp()\n",
    "print(f\"Temperature extremes for sensor {sensor_name}: Highest {highest}, Lowest {lowest}\")\n",
    "# Code above this point is unchanged, except for removing the function\n",
    "\n",
    "# New call to method in TemperatureData\n",
    "range = sensor.calc_range()\n",
    "print(f\"Temperature range for sensor {sensor_name}: {range} degrees Fahrenheit\")"
   ],
   "id": "6a0dee52ae200756",
   "outputs": [
    {
     "name": "stdout",
     "output_type": "stream",
     "text": [
      "Average temperature for sensor East Forest Road Sensor: 73.2 degrees Fahrenheit\n",
      "Temperature extremes for sensor East Forest Road Sensor: Highest 88, Lowest 64\n"
     ]
    },
    {
     "ename": "AttributeError",
     "evalue": "'TemperatureData' object has no attribute 'calc_range'",
     "output_type": "error",
     "traceback": [
      "\u001B[31m---------------------------------------------------------------------------\u001B[39m",
      "\u001B[31mAttributeError\u001B[39m                            Traceback (most recent call last)",
      "\u001B[36mCell\u001B[39m\u001B[36m \u001B[39m\u001B[32mIn[5]\u001B[39m\u001B[32m, line 15\u001B[39m\n\u001B[32m     11\u001B[39m \u001B[38;5;28mprint\u001B[39m(\u001B[33mf\u001B[39m\u001B[33m\"\u001B[39m\u001B[33mTemperature extremes for sensor \u001B[39m\u001B[38;5;132;01m{\u001B[39;00msensor_name\u001B[38;5;132;01m}\u001B[39;00m\u001B[33m: Highest \u001B[39m\u001B[38;5;132;01m{\u001B[39;00mhighest\u001B[38;5;132;01m}\u001B[39;00m\u001B[33m, Lowest \u001B[39m\u001B[38;5;132;01m{\u001B[39;00mlowest\u001B[38;5;132;01m}\u001B[39;00m\u001B[33m\"\u001B[39m) \n\u001B[32m     12\u001B[39m \u001B[38;5;66;03m# Code above this point is unchanged, except for removing the function\u001B[39;00m\n\u001B[32m     13\u001B[39m \n\u001B[32m     14\u001B[39m \u001B[38;5;66;03m# New call to method in TemperatureData\u001B[39;00m\n\u001B[32m---> \u001B[39m\u001B[32m15\u001B[39m \u001B[38;5;28mrange\u001B[39m = \u001B[43msensor\u001B[49m\u001B[43m.\u001B[49m\u001B[43mcalc_range\u001B[49m()\n\u001B[32m     16\u001B[39m \u001B[38;5;28mprint\u001B[39m(\u001B[33mf\u001B[39m\u001B[33m\"\u001B[39m\u001B[33mTemperature range for sensor \u001B[39m\u001B[38;5;132;01m{\u001B[39;00msensor_name\u001B[38;5;132;01m}\u001B[39;00m\u001B[33m: \u001B[39m\u001B[38;5;132;01m{\u001B[39;00m\u001B[38;5;28mrange\u001B[39m\u001B[38;5;132;01m}\u001B[39;00m\u001B[33m degrees Fahrenheit\u001B[39m\u001B[33m\"\u001B[39m)\n",
      "\u001B[31mAttributeError\u001B[39m: 'TemperatureData' object has no attribute 'calc_range'"
     ]
    }
   ],
   "execution_count": 5
  }
 ],
 "metadata": {
  "kernelspec": {
   "display_name": "Python 3",
   "language": "python",
   "name": "python3"
  },
  "language_info": {
   "codemirror_mode": {
    "name": "ipython",
    "version": 2
   },
   "file_extension": ".py",
   "mimetype": "text/x-python",
   "name": "python",
   "nbconvert_exporter": "python",
   "pygments_lexer": "ipython2",
   "version": "2.7.6"
  }
 },
 "nbformat": 4,
 "nbformat_minor": 5
}
